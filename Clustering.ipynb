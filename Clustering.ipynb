{
    "cells": [
        {
            "metadata": {},
            "cell_type": "code",
            "source": "import numpy as np # library to handle data in a vectorized manner\n\nimport pandas as pd # library for data analsysis\n\nimport json # library to handle JSON files\n\nimport requests # library to handle requests\n\nfrom pandas.io.json import json_normalize # tranform JSON file into a pandas dataframe\n\nimport matplotlib.cm as cm\nimport matplotlib.colors as colors # Matplotlib and associated plotting modules\n\nfrom sklearn.cluster import KMeans # import k-means from clustering stage\n\n!conda install -c conda-forge beautifulsoup4 --yes\nfrom bs4 import BeautifulSoup # website scraping libraries and packages in Python from BeautifulSoup \n\n!conda install -c conda-forge geopy --yes\nfrom geopy.geocoders import Nominatim  # convert an address into latitude and longitude values\n\nprint(\"Libraries imported.\")",
            "execution_count": 1,
            "outputs": [
                {
                    "output_type": "stream",
                    "text": "Solving environment: done\n\n## Package Plan ##\n\n  environment location: /opt/conda/envs/Python36\n\n  added / updated specs: \n    - beautifulsoup4\n\n\nThe following packages will be downloaded:\n\n    package                    |            build\n    ---------------------------|-----------------\n    certifi-2019.11.28         |   py36h9f0ad1d_1         149 KB  conda-forge\n    openssl-1.1.1e             |       h516909a_0         2.1 MB  conda-forge\n    ca-certificates-2019.11.28 |       hecc5488_0         145 KB  conda-forge\n    beautifulsoup4-4.8.2       |   py36h9f0ad1d_1         157 KB  conda-forge\n    python_abi-3.6             |          1_cp36m           4 KB  conda-forge\n    ------------------------------------------------------------\n                                           Total:         2.6 MB\n\nThe following NEW packages will be INSTALLED:\n\n    python_abi:      3.6-1_cp36m       conda-forge\n\nThe following packages will be UPDATED:\n\n    beautifulsoup4:  4.7.1-py36_1                  --> 4.8.2-py36h9f0ad1d_1      conda-forge\n    certifi:         2019.11.28-py36_0             --> 2019.11.28-py36h9f0ad1d_1 conda-forge\n    openssl:         1.1.1e-h7b6447c_0             --> 1.1.1e-h516909a_0         conda-forge\n\nThe following packages will be DOWNGRADED:\n\n    ca-certificates: 2020.1.1-0                    --> 2019.11.28-hecc5488_0     conda-forge\n\n\nDownloading and Extracting Packages\ncertifi-2019.11.28   | 149 KB    | ##################################### | 100% \nopenssl-1.1.1e       | 2.1 MB    | ##################################### | 100% \nca-certificates-2019 | 145 KB    | ##################################### | 100% \nbeautifulsoup4-4.8.2 | 157 KB    | ##################################### | 100% \npython_abi-3.6       | 4 KB      | ##################################### | 100% \nPreparing transaction: done\nVerifying transaction: done\nExecuting transaction: done\nSolving environment: done\n\n## Package Plan ##\n\n  environment location: /opt/conda/envs/Python36\n\n  added / updated specs: \n    - geopy\n\n\nThe following packages will be downloaded:\n\n    package                    |            build\n    ---------------------------|-----------------\n    geographiclib-1.50         |             py_0          34 KB  conda-forge\n    geopy-1.21.0               |             py_0          58 KB  conda-forge\n    ------------------------------------------------------------\n                                           Total:          92 KB\n\nThe following NEW packages will be INSTALLED:\n\n    geographiclib: 1.50-py_0   conda-forge\n    geopy:         1.21.0-py_0 conda-forge\n\n\nDownloading and Extracting Packages\ngeographiclib-1.50   | 34 KB     | ##################################### | 100% \ngeopy-1.21.0         | 58 KB     | ##################################### | 100% \nPreparing transaction: done\nVerifying transaction: done\nExecuting transaction: done\nLibraries imported.\n",
                    "name": "stdout"
                }
            ]
        },
        {
            "metadata": {},
            "cell_type": "code",
            "source": "!conda install -c conda-forge folium=0.5.0 --yes \nimport folium # map rendering library\n\nfrom pandas.io.json import json_normalize # tranform JSON file into a ",
            "execution_count": 2,
            "outputs": [
                {
                    "output_type": "stream",
                    "text": "Solving environment: done\n\n## Package Plan ##\n\n  environment location: /opt/conda/envs/Python36\n\n  added / updated specs: \n    - folium=0.5.0\n\n\nThe following packages will be downloaded:\n\n    package                    |            build\n    ---------------------------|-----------------\n    vincent-0.4.4              |             py_1          28 KB  conda-forge\n    altair-4.0.1               |             py_0         575 KB  conda-forge\n    folium-0.5.0               |             py_0          45 KB  conda-forge\n    branca-0.4.0               |             py_0          26 KB  conda-forge\n    ------------------------------------------------------------\n                                           Total:         673 KB\n\nThe following NEW packages will be INSTALLED:\n\n    altair:  4.0.1-py_0 conda-forge\n    branca:  0.4.0-py_0 conda-forge\n    folium:  0.5.0-py_0 conda-forge\n    vincent: 0.4.4-py_1 conda-forge\n\n\nDownloading and Extracting Packages\nvincent-0.4.4        | 28 KB     | ##################################### | 100% \naltair-4.0.1         | 575 KB    | ##################################### | 100% \nfolium-0.5.0         | 45 KB     | ##################################### | 100% \nbranca-0.4.0         | 26 KB     | ##################################### | 100% \nPreparing transaction: done\nVerifying transaction: done\nExecuting transaction: done\n",
                    "name": "stdout"
                }
            ]
        },
        {
            "metadata": {},
            "cell_type": "code",
            "source": "data = requests.get('https://en.wikipedia.org/w/index.php?title=List_of_postal_codes_of_Canada:_M&oldid=942655599').text\nsoup = BeautifulSoup(data, 'html.parser')",
            "execution_count": 3,
            "outputs": []
        },
        {
            "metadata": {},
            "cell_type": "code",
            "source": "postalCodeList = []\nboroughList = []\nneighborhoodList = []\n",
            "execution_count": 4,
            "outputs": []
        },
        {
            "metadata": {},
            "cell_type": "code",
            "source": "soup.find('table').find_all('tr')\n\n# find all the rows of the table\nsoup.find('table').find_all('tr')\n\n# for each row of the table, find all the table data\nfor row in soup.find('table').find_all('tr'):\n    cells = row.find_all('td')\n    \nfor row in soup.find('table').find_all('tr'):\n    cells = row.find_all('td')\n    if(len(cells) > 0):\n        postalCodeList.append(cells[0].text)\n        boroughList.append(cells[1].text)\n        neighborhoodList.append(cells[2].text.rstrip('\\n'))\n        \ntoronto_df = pd.DataFrame({\"PostalCode\": postalCodeList,\n                           \"Borough\": boroughList,\n                           \"Neighborhood\": neighborhoodList})\n\ntoronto_df.head()",
            "execution_count": 5,
            "outputs": [
                {
                    "output_type": "execute_result",
                    "execution_count": 5,
                    "data": {
                        "text/plain": "  PostalCode           Borough      Neighborhood\n0        M1A      Not assigned      Not assigned\n1        M2A      Not assigned      Not assigned\n2        M3A        North York         Parkwoods\n3        M4A        North York  Victoria Village\n4        M5A  Downtown Toronto      Harbourfront",
                        "text/html": "<div>\n<style scoped>\n    .dataframe tbody tr th:only-of-type {\n        vertical-align: middle;\n    }\n\n    .dataframe tbody tr th {\n        vertical-align: top;\n    }\n\n    .dataframe thead th {\n        text-align: right;\n    }\n</style>\n<table border=\"1\" class=\"dataframe\">\n  <thead>\n    <tr style=\"text-align: right;\">\n      <th></th>\n      <th>PostalCode</th>\n      <th>Borough</th>\n      <th>Neighborhood</th>\n    </tr>\n  </thead>\n  <tbody>\n    <tr>\n      <th>0</th>\n      <td>M1A</td>\n      <td>Not assigned</td>\n      <td>Not assigned</td>\n    </tr>\n    <tr>\n      <th>1</th>\n      <td>M2A</td>\n      <td>Not assigned</td>\n      <td>Not assigned</td>\n    </tr>\n    <tr>\n      <th>2</th>\n      <td>M3A</td>\n      <td>North York</td>\n      <td>Parkwoods</td>\n    </tr>\n    <tr>\n      <th>3</th>\n      <td>M4A</td>\n      <td>North York</td>\n      <td>Victoria Village</td>\n    </tr>\n    <tr>\n      <th>4</th>\n      <td>M5A</td>\n      <td>Downtown Toronto</td>\n      <td>Harbourfront</td>\n    </tr>\n  </tbody>\n</table>\n</div>"
                    },
                    "metadata": {}
                }
            ]
        },
        {
            "metadata": {},
            "cell_type": "code",
            "source": "df = pd.DataFrame(row)\ndf1 = df[0].str.split(expand=True)\ndf2 = df1.rename(columns=df1.iloc[0])\ndf3 = df2.drop(df2.index[0])\ndf3.head()",
            "execution_count": 6,
            "outputs": [
                {
                    "output_type": "execute_result",
                    "execution_count": 6,
                    "data": {
                        "text/plain": "   NaN\n1  NaN\n2  NaN\n3  NaN\n4  NaN\n5  NaN",
                        "text/html": "<div>\n<style scoped>\n    .dataframe tbody tr th:only-of-type {\n        vertical-align: middle;\n    }\n\n    .dataframe tbody tr th {\n        vertical-align: top;\n    }\n\n    .dataframe thead th {\n        text-align: right;\n    }\n</style>\n<table border=\"1\" class=\"dataframe\">\n  <thead>\n    <tr style=\"text-align: right;\">\n      <th></th>\n      <th>nan</th>\n    </tr>\n  </thead>\n  <tbody>\n    <tr>\n      <th>1</th>\n      <td>NaN</td>\n    </tr>\n    <tr>\n      <th>2</th>\n      <td>NaN</td>\n    </tr>\n    <tr>\n      <th>3</th>\n      <td>NaN</td>\n    </tr>\n    <tr>\n      <th>4</th>\n      <td>NaN</td>\n    </tr>\n    <tr>\n      <th>5</th>\n      <td>NaN</td>\n    </tr>\n  </tbody>\n</table>\n</div>"
                    },
                    "metadata": {}
                }
            ]
        },
        {
            "metadata": {},
            "cell_type": "code",
            "source": "soup.find('table').find_all('tr')\n\nsoup.find('table').find_all('tr')\n\n# for each row of the table, find all the table data\nfor row in soup.find('table').find_all('tr'):\n    cells = row.find_all('td')",
            "execution_count": 7,
            "outputs": []
        },
        {
            "metadata": {},
            "cell_type": "code",
            "source": "for row in soup.find('table').find_all('tr'):\n    cells = row.find_all('td')\n    if(len(cells) > 0):\n        postalCodeList.append(cells[0].text)\n        boroughList.append(cells[1].text)\n        neighborhoodList.append(cells[2].text.rstrip('\\n'))",
            "execution_count": 8,
            "outputs": []
        },
        {
            "metadata": {},
            "cell_type": "code",
            "source": "toronto_df = pd.DataFrame({\"PostalCode\": postalCodeList,\n                           \"Borough\": boroughList,\n                           \"Neighborhood\": neighborhoodList})\n\ntoronto_df.head()",
            "execution_count": 9,
            "outputs": [
                {
                    "output_type": "execute_result",
                    "execution_count": 9,
                    "data": {
                        "text/plain": "  PostalCode           Borough      Neighborhood\n0        M1A      Not assigned      Not assigned\n1        M2A      Not assigned      Not assigned\n2        M3A        North York         Parkwoods\n3        M4A        North York  Victoria Village\n4        M5A  Downtown Toronto      Harbourfront",
                        "text/html": "<div>\n<style scoped>\n    .dataframe tbody tr th:only-of-type {\n        vertical-align: middle;\n    }\n\n    .dataframe tbody tr th {\n        vertical-align: top;\n    }\n\n    .dataframe thead th {\n        text-align: right;\n    }\n</style>\n<table border=\"1\" class=\"dataframe\">\n  <thead>\n    <tr style=\"text-align: right;\">\n      <th></th>\n      <th>PostalCode</th>\n      <th>Borough</th>\n      <th>Neighborhood</th>\n    </tr>\n  </thead>\n  <tbody>\n    <tr>\n      <th>0</th>\n      <td>M1A</td>\n      <td>Not assigned</td>\n      <td>Not assigned</td>\n    </tr>\n    <tr>\n      <th>1</th>\n      <td>M2A</td>\n      <td>Not assigned</td>\n      <td>Not assigned</td>\n    </tr>\n    <tr>\n      <th>2</th>\n      <td>M3A</td>\n      <td>North York</td>\n      <td>Parkwoods</td>\n    </tr>\n    <tr>\n      <th>3</th>\n      <td>M4A</td>\n      <td>North York</td>\n      <td>Victoria Village</td>\n    </tr>\n    <tr>\n      <th>4</th>\n      <td>M5A</td>\n      <td>Downtown Toronto</td>\n      <td>Harbourfront</td>\n    </tr>\n  </tbody>\n</table>\n</div>"
                    },
                    "metadata": {}
                }
            ]
        },
        {
            "metadata": {},
            "cell_type": "code",
            "source": "toronto_df_drop = toronto_df[toronto_df.Borough != \"Not assigned\"].reset_index(drop=True)\ntoronto_df_drop.head()",
            "execution_count": 10,
            "outputs": [
                {
                    "output_type": "execute_result",
                    "execution_count": 10,
                    "data": {
                        "text/plain": "  PostalCode           Borough      Neighborhood\n0        M3A        North York         Parkwoods\n1        M4A        North York  Victoria Village\n2        M5A  Downtown Toronto      Harbourfront\n3        M6A        North York  Lawrence Heights\n4        M6A        North York    Lawrence Manor",
                        "text/html": "<div>\n<style scoped>\n    .dataframe tbody tr th:only-of-type {\n        vertical-align: middle;\n    }\n\n    .dataframe tbody tr th {\n        vertical-align: top;\n    }\n\n    .dataframe thead th {\n        text-align: right;\n    }\n</style>\n<table border=\"1\" class=\"dataframe\">\n  <thead>\n    <tr style=\"text-align: right;\">\n      <th></th>\n      <th>PostalCode</th>\n      <th>Borough</th>\n      <th>Neighborhood</th>\n    </tr>\n  </thead>\n  <tbody>\n    <tr>\n      <th>0</th>\n      <td>M3A</td>\n      <td>North York</td>\n      <td>Parkwoods</td>\n    </tr>\n    <tr>\n      <th>1</th>\n      <td>M4A</td>\n      <td>North York</td>\n      <td>Victoria Village</td>\n    </tr>\n    <tr>\n      <th>2</th>\n      <td>M5A</td>\n      <td>Downtown Toronto</td>\n      <td>Harbourfront</td>\n    </tr>\n    <tr>\n      <th>3</th>\n      <td>M6A</td>\n      <td>North York</td>\n      <td>Lawrence Heights</td>\n    </tr>\n    <tr>\n      <th>4</th>\n      <td>M6A</td>\n      <td>North York</td>\n      <td>Lawrence Manor</td>\n    </tr>\n  </tbody>\n</table>\n</div>"
                    },
                    "metadata": {}
                }
            ]
        },
        {
            "metadata": {},
            "cell_type": "code",
            "source": "toronto_df_grouped = toronto_df_drop.groupby([\"PostalCode\", \"Borough\"], as_index=False).agg(lambda x: \", \".join(x))\ntoronto_df_grouped.head()",
            "execution_count": 11,
            "outputs": [
                {
                    "output_type": "execute_result",
                    "execution_count": 11,
                    "data": {
                        "text/plain": "  PostalCode      Borough                                       Neighborhood\n0        M1B  Scarborough                     Rouge, Malvern, Rouge, Malvern\n1        M1C  Scarborough  Highland Creek, Rouge Hill, Port Union, Highla...\n2        M1E  Scarborough  Guildwood, Morningside, West Hill, Guildwood, ...\n3        M1G  Scarborough                                     Woburn, Woburn\n4        M1H  Scarborough                               Cedarbrae, Cedarbrae",
                        "text/html": "<div>\n<style scoped>\n    .dataframe tbody tr th:only-of-type {\n        vertical-align: middle;\n    }\n\n    .dataframe tbody tr th {\n        vertical-align: top;\n    }\n\n    .dataframe thead th {\n        text-align: right;\n    }\n</style>\n<table border=\"1\" class=\"dataframe\">\n  <thead>\n    <tr style=\"text-align: right;\">\n      <th></th>\n      <th>PostalCode</th>\n      <th>Borough</th>\n      <th>Neighborhood</th>\n    </tr>\n  </thead>\n  <tbody>\n    <tr>\n      <th>0</th>\n      <td>M1B</td>\n      <td>Scarborough</td>\n      <td>Rouge, Malvern, Rouge, Malvern</td>\n    </tr>\n    <tr>\n      <th>1</th>\n      <td>M1C</td>\n      <td>Scarborough</td>\n      <td>Highland Creek, Rouge Hill, Port Union, Highla...</td>\n    </tr>\n    <tr>\n      <th>2</th>\n      <td>M1E</td>\n      <td>Scarborough</td>\n      <td>Guildwood, Morningside, West Hill, Guildwood, ...</td>\n    </tr>\n    <tr>\n      <th>3</th>\n      <td>M1G</td>\n      <td>Scarborough</td>\n      <td>Woburn, Woburn</td>\n    </tr>\n    <tr>\n      <th>4</th>\n      <td>M1H</td>\n      <td>Scarborough</td>\n      <td>Cedarbrae, Cedarbrae</td>\n    </tr>\n  </tbody>\n</table>\n</div>"
                    },
                    "metadata": {}
                }
            ]
        },
        {
            "metadata": {},
            "cell_type": "code",
            "source": "for index, row in toronto_df_grouped.iterrows():\n    if row[\"Neighborhood\"] == \"Not assigned\":\n        row[\"Neighborhood\"] = row[\"Borough\"]\n        \ntoronto_df_grouped.head()",
            "execution_count": 12,
            "outputs": [
                {
                    "output_type": "execute_result",
                    "execution_count": 12,
                    "data": {
                        "text/plain": "  PostalCode      Borough                                       Neighborhood\n0        M1B  Scarborough                     Rouge, Malvern, Rouge, Malvern\n1        M1C  Scarborough  Highland Creek, Rouge Hill, Port Union, Highla...\n2        M1E  Scarborough  Guildwood, Morningside, West Hill, Guildwood, ...\n3        M1G  Scarborough                                     Woburn, Woburn\n4        M1H  Scarborough                               Cedarbrae, Cedarbrae",
                        "text/html": "<div>\n<style scoped>\n    .dataframe tbody tr th:only-of-type {\n        vertical-align: middle;\n    }\n\n    .dataframe tbody tr th {\n        vertical-align: top;\n    }\n\n    .dataframe thead th {\n        text-align: right;\n    }\n</style>\n<table border=\"1\" class=\"dataframe\">\n  <thead>\n    <tr style=\"text-align: right;\">\n      <th></th>\n      <th>PostalCode</th>\n      <th>Borough</th>\n      <th>Neighborhood</th>\n    </tr>\n  </thead>\n  <tbody>\n    <tr>\n      <th>0</th>\n      <td>M1B</td>\n      <td>Scarborough</td>\n      <td>Rouge, Malvern, Rouge, Malvern</td>\n    </tr>\n    <tr>\n      <th>1</th>\n      <td>M1C</td>\n      <td>Scarborough</td>\n      <td>Highland Creek, Rouge Hill, Port Union, Highla...</td>\n    </tr>\n    <tr>\n      <th>2</th>\n      <td>M1E</td>\n      <td>Scarborough</td>\n      <td>Guildwood, Morningside, West Hill, Guildwood, ...</td>\n    </tr>\n    <tr>\n      <th>3</th>\n      <td>M1G</td>\n      <td>Scarborough</td>\n      <td>Woburn, Woburn</td>\n    </tr>\n    <tr>\n      <th>4</th>\n      <td>M1H</td>\n      <td>Scarborough</td>\n      <td>Cedarbrae, Cedarbrae</td>\n    </tr>\n  </tbody>\n</table>\n</div>"
                    },
                    "metadata": {}
                }
            ]
        },
        {
            "metadata": {},
            "cell_type": "code",
            "source": "column_names = [\"PostalCode\", \"Borough\", \"Neighborhood\"]\n\ntest_df = pd.DataFrame(columns=column_names)\n\ntest_list = [\"M5G\", \"M2H\", \"M4B\", \"M1J\", \"M4G\", \"M4M\", \"M1R\", \"M9V\", \"M9L\", \"M5V\", \"M1B\", \"M5A\"]\n\nfor postcode in test_list:\n    test_df = test_df.append(toronto_df_grouped[toronto_df_grouped[\"PostalCode\"]==postcode], ignore_index=True)\n    \ntest_df",
            "execution_count": 13,
            "outputs": [
                {
                    "output_type": "execute_result",
                    "execution_count": 13,
                    "data": {
                        "text/plain": "   PostalCode           Borough  \\\n0         M5G  Downtown Toronto   \n1         M2H        North York   \n2         M4B         East York   \n3         M1J       Scarborough   \n4         M4G         East York   \n5         M4M      East Toronto   \n6         M1R       Scarborough   \n7         M9V         Etobicoke   \n8         M9L        North York   \n9         M5V  Downtown Toronto   \n10        M1B       Scarborough   \n11        M5A  Downtown Toronto   \n\n                                         Neighborhood  \n0              Central Bay Street, Central Bay Street  \n1                Hillcrest Village, Hillcrest Village  \n2   Woodbine Gardens, Parkview Hill, Woodbine Gard...  \n3            Scarborough Village, Scarborough Village  \n4                                    Leaside, Leaside  \n5                    Studio District, Studio District  \n6                Maryvale, Wexford, Maryvale, Wexford  \n7   Albion Gardens, Beaumond Heights, Humbergate, ...  \n8                        Humber Summit, Humber Summit  \n9   CN Tower, Bathurst Quay, Island airport, Harbo...  \n10                     Rouge, Malvern, Rouge, Malvern  \n11                         Harbourfront, Harbourfront  ",
                        "text/html": "<div>\n<style scoped>\n    .dataframe tbody tr th:only-of-type {\n        vertical-align: middle;\n    }\n\n    .dataframe tbody tr th {\n        vertical-align: top;\n    }\n\n    .dataframe thead th {\n        text-align: right;\n    }\n</style>\n<table border=\"1\" class=\"dataframe\">\n  <thead>\n    <tr style=\"text-align: right;\">\n      <th></th>\n      <th>PostalCode</th>\n      <th>Borough</th>\n      <th>Neighborhood</th>\n    </tr>\n  </thead>\n  <tbody>\n    <tr>\n      <th>0</th>\n      <td>M5G</td>\n      <td>Downtown Toronto</td>\n      <td>Central Bay Street, Central Bay Street</td>\n    </tr>\n    <tr>\n      <th>1</th>\n      <td>M2H</td>\n      <td>North York</td>\n      <td>Hillcrest Village, Hillcrest Village</td>\n    </tr>\n    <tr>\n      <th>2</th>\n      <td>M4B</td>\n      <td>East York</td>\n      <td>Woodbine Gardens, Parkview Hill, Woodbine Gard...</td>\n    </tr>\n    <tr>\n      <th>3</th>\n      <td>M1J</td>\n      <td>Scarborough</td>\n      <td>Scarborough Village, Scarborough Village</td>\n    </tr>\n    <tr>\n      <th>4</th>\n      <td>M4G</td>\n      <td>East York</td>\n      <td>Leaside, Leaside</td>\n    </tr>\n    <tr>\n      <th>5</th>\n      <td>M4M</td>\n      <td>East Toronto</td>\n      <td>Studio District, Studio District</td>\n    </tr>\n    <tr>\n      <th>6</th>\n      <td>M1R</td>\n      <td>Scarborough</td>\n      <td>Maryvale, Wexford, Maryvale, Wexford</td>\n    </tr>\n    <tr>\n      <th>7</th>\n      <td>M9V</td>\n      <td>Etobicoke</td>\n      <td>Albion Gardens, Beaumond Heights, Humbergate, ...</td>\n    </tr>\n    <tr>\n      <th>8</th>\n      <td>M9L</td>\n      <td>North York</td>\n      <td>Humber Summit, Humber Summit</td>\n    </tr>\n    <tr>\n      <th>9</th>\n      <td>M5V</td>\n      <td>Downtown Toronto</td>\n      <td>CN Tower, Bathurst Quay, Island airport, Harbo...</td>\n    </tr>\n    <tr>\n      <th>10</th>\n      <td>M1B</td>\n      <td>Scarborough</td>\n      <td>Rouge, Malvern, Rouge, Malvern</td>\n    </tr>\n    <tr>\n      <th>11</th>\n      <td>M5A</td>\n      <td>Downtown Toronto</td>\n      <td>Harbourfront, Harbourfront</td>\n    </tr>\n  </tbody>\n</table>\n</div>"
                    },
                    "metadata": {}
                }
            ]
        },
        {
            "metadata": {},
            "cell_type": "code",
            "source": "",
            "execution_count": null,
            "outputs": []
        },
        {
            "metadata": {},
            "cell_type": "code",
            "source": "",
            "execution_count": null,
            "outputs": []
        },
        {
            "metadata": {},
            "cell_type": "code",
            "source": "",
            "execution_count": null,
            "outputs": []
        }
    ],
    "metadata": {
        "kernelspec": {
            "name": "python3",
            "display_name": "Python 3.6",
            "language": "python"
        },
        "language_info": {
            "name": "python",
            "version": "3.6.9",
            "mimetype": "text/x-python",
            "codemirror_mode": {
                "name": "ipython",
                "version": 3
            },
            "pygments_lexer": "ipython3",
            "nbconvert_exporter": "python",
            "file_extension": ".py"
        }
    },
    "nbformat": 4,
    "nbformat_minor": 1
}